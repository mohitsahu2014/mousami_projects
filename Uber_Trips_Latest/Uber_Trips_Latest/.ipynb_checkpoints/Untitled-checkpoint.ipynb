{
 "cells": [
  {
   "cell_type": "code",
   "execution_count": 38,
   "id": "345d726c",
   "metadata": {},
   "outputs": [],
   "source": [
    "import numpy as np\n",
    "import pandas as pd\n",
    "import matplotlib.pyplot as ply\n",
    "import warnings"
   ]
  },
  {
   "cell_type": "code",
   "execution_count": 39,
   "id": "ba5bdfe6",
   "metadata": {},
   "outputs": [
    {
     "data": {
      "text/plain": [
       "Date/Time     object\n",
       "Lat          float64\n",
       "Lon          float64\n",
       "Base          object\n",
       "dtype: object"
      ]
     },
     "execution_count": 39,
     "metadata": {},
     "output_type": "execute_result"
    }
   ],
   "source": [
    "df = pd.read_csv('./Data/uber-raw-data-aug14.csv')\n",
    "df.head()\n",
    "df.dtypes"
   ]
  },
  {
   "cell_type": "code",
   "execution_count": 40,
   "id": "9b5a1a7c",
   "metadata": {},
   "outputs": [
    {
     "name": "stdout",
     "output_type": "stream",
     "text": [
      "2014-08-07\n",
      "32759\n"
     ]
    }
   ],
   "source": [
    "#Q1. On what date did we see the most number of Uber pickups?\n",
    "\n",
    "df['Date/Time'] = pd.to_datetime(df['Date/Time'])\n",
    "\n",
    "#grouping by Date\n",
    "\n",
    "no_of_pickups_datewise = df.groupby(df['Date/Time'].dt.date)['Date/Time'].count()\n",
    "#print(no_of_pickups_datewise)\n",
    "\n",
    "no_of_pickups_datewise_max = no_of_pickups_datewise.idxmax()\n",
    "print(no_of_pickups_datewise_max)\n",
    "\n",
    "#ordering by in desc order\n",
    "\n",
    "#no_of_pickups_datewise_sorted_desc = no_of_pickups_datewise.sort_values(ascending = False).head(1)\n",
    "\n",
    "#print(no_of_pickups_datewise_sorted_desc)\n",
    "\n",
    "no_of_pickups_highest = no_of_pickups_datewise[no_of_pickups_datewise_max]\n",
    "\n",
    "print(no_of_pickups_highest)\n"
   ]
  },
  {
   "cell_type": "code",
   "execution_count": 41,
   "id": "0728909d",
   "metadata": {},
   "outputs": [
    {
     "data": {
      "text/html": [
       "<div>\n",
       "<style scoped>\n",
       "    .dataframe tbody tr th:only-of-type {\n",
       "        vertical-align: middle;\n",
       "    }\n",
       "\n",
       "    .dataframe tbody tr th {\n",
       "        vertical-align: top;\n",
       "    }\n",
       "\n",
       "    .dataframe thead th {\n",
       "        text-align: right;\n",
       "    }\n",
       "</style>\n",
       "<table border=\"1\" class=\"dataframe\">\n",
       "  <thead>\n",
       "    <tr style=\"text-align: right;\">\n",
       "      <th></th>\n",
       "      <th>Date/Time</th>\n",
       "      <th>Lat</th>\n",
       "      <th>Lon</th>\n",
       "      <th>Base</th>\n",
       "    </tr>\n",
       "  </thead>\n",
       "  <tbody>\n",
       "    <tr>\n",
       "      <th>0</th>\n",
       "      <td>2014-08-01 00:03:00</td>\n",
       "      <td>40.7366</td>\n",
       "      <td>-73.9906</td>\n",
       "      <td>B02512</td>\n",
       "    </tr>\n",
       "    <tr>\n",
       "      <th>1</th>\n",
       "      <td>2014-08-01 00:09:00</td>\n",
       "      <td>40.7260</td>\n",
       "      <td>-73.9918</td>\n",
       "      <td>B02512</td>\n",
       "    </tr>\n",
       "    <tr>\n",
       "      <th>2</th>\n",
       "      <td>2014-08-01 00:12:00</td>\n",
       "      <td>40.7209</td>\n",
       "      <td>-74.0507</td>\n",
       "      <td>B02512</td>\n",
       "    </tr>\n",
       "    <tr>\n",
       "      <th>3</th>\n",
       "      <td>2014-08-01 00:12:00</td>\n",
       "      <td>40.7387</td>\n",
       "      <td>-73.9856</td>\n",
       "      <td>B02512</td>\n",
       "    </tr>\n",
       "    <tr>\n",
       "      <th>4</th>\n",
       "      <td>2014-08-01 00:12:00</td>\n",
       "      <td>40.7323</td>\n",
       "      <td>-74.0077</td>\n",
       "      <td>B02512</td>\n",
       "    </tr>\n",
       "  </tbody>\n",
       "</table>\n",
       "</div>"
      ],
      "text/plain": [
       "            Date/Time      Lat      Lon    Base\n",
       "0 2014-08-01 00:03:00  40.7366 -73.9906  B02512\n",
       "1 2014-08-01 00:09:00  40.7260 -73.9918  B02512\n",
       "2 2014-08-01 00:12:00  40.7209 -74.0507  B02512\n",
       "3 2014-08-01 00:12:00  40.7387 -73.9856  B02512\n",
       "4 2014-08-01 00:12:00  40.7323 -74.0077  B02512"
      ]
     },
     "metadata": {},
     "output_type": "display_data"
    },
    {
     "name": "stdout",
     "output_type": "stream",
     "text": [
      "5\n",
      "Base\n",
      "B02617    355803\n",
      "B02598    220129\n",
      "B02682    173280\n",
      "B02764     48591\n",
      "B02512     31472\n",
      "Name: Base, dtype: int64\n",
      "355803\n"
     ]
    }
   ],
   "source": [
    "#Q.3 How many unique TLC base companies are affiliated with the Uber pickups in the dataset?\n",
    "\n",
    "display(df.head())\n",
    "\n",
    "no_of_base_companies = df['Base'].nunique()\n",
    "\n",
    "print(no_of_base_companies)\n",
    "\n",
    "pickup_count_basewise = df.groupby(df['Base'])['Base'].count().sort_values(ascending = False)\n",
    "print(pickup_count_basewise)\n",
    "\n",
    "base_wise_highestPickups = pickup_count_basewise[pickup_count_basewise.idxmax()]\n",
    "print(base_wise_highestPickups)"
   ]
  },
  {
   "cell_type": "code",
   "execution_count": 50,
   "id": "6c2dfb47",
   "metadata": {},
   "outputs": [
    {
     "name": "stdout",
     "output_type": "stream",
     "text": [
      "Hour\n",
      "0     21451\n",
      "1     14471\n",
      "2     10105\n",
      "3     10376\n",
      "4     11774\n",
      "5     16525\n",
      "6     24907\n",
      "7     34064\n",
      "8     34566\n",
      "9     30195\n",
      "10    30706\n",
      "11    31778\n",
      "12    32106\n",
      "13    35764\n",
      "14    40644\n",
      "15    48197\n",
      "16    53481\n",
      "17    57122\n",
      "18    55390\n",
      "19    53008\n",
      "20    51674\n",
      "21    51354\n",
      "22    46008\n",
      "23    33609\n",
      "Name: Hour, dtype: int64\n",
      "17\n",
      "57122\n"
     ]
    }
   ],
   "source": [
    "#Q.6 Determining the busiest time of day for Uber pickups based on the date/time column?\n",
    "\n",
    "df['Hour'] = df['Date/Time'].dt.hour\n",
    "\n",
    "grouped_by_hour = df.groupby('Hour')['Hour'].count()\n",
    "\n",
    "print(grouped_by_hour)\n",
    "\n",
    "grouped_by_hour_max = grouped_by_hour.idxmax()\n",
    "\n",
    "print(grouped_by_hour_max)\n",
    "\n",
    "highest_hour_pickups = grouped_by_hour[grouped_by_hour_max]\n",
    "\n",
    "print(highest_hour_pickups)"
   ]
  },
  {
   "cell_type": "code",
   "execution_count": null,
   "id": "44d6d876",
   "metadata": {},
   "outputs": [],
   "source": []
  }
 ],
 "metadata": {
  "kernelspec": {
   "display_name": "Python 3 (ipykernel)",
   "language": "python",
   "name": "python3"
  },
  "language_info": {
   "codemirror_mode": {
    "name": "ipython",
    "version": 3
   },
   "file_extension": ".py",
   "mimetype": "text/x-python",
   "name": "python",
   "nbconvert_exporter": "python",
   "pygments_lexer": "ipython3",
   "version": "3.11.2"
  }
 },
 "nbformat": 4,
 "nbformat_minor": 5
}
